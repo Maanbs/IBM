{
  "nbformat": 4,
  "nbformat_minor": 0,
  "metadata": {
    "colab": {
      "provenance": []
    },
    "kernelspec": {
      "name": "python3",
      "display_name": "Python 3"
    },
    "language_info": {
      "name": "python"
    }
  },
  "cells": [
    {
      "cell_type": "markdown",
      "source": [
        "# Data Science Tools and Ecosystem "
      ],
      "metadata": {
        "id": "OdX5fyeFU9VQ"
      }
    },
    {
      "cell_type": "markdown",
      "source": [
        "#In this notebook, Data Science Tools and Ecosystem are summarized."
      ],
      "metadata": {
        "id": "OHXBkiYbVCwF"
      }
    },
    {
      "cell_type": "markdown",
      "source": [
        "##Objectives"
      ],
      "metadata": {
        "id": "xcvICEveceau"
      }
    },
    {
      "cell_type": "code",
      "source": [
        "#Some of the popular languages that Data Scientists use are:\n",
        "\n",
        "list = [\"R\", \"Stata\", \"Python\", \"Julia\", \"Eviews\"]\n",
        "orded_list = sorted(list)\n",
        "print(list)"
      ],
      "metadata": {
        "colab": {
          "base_uri": "https://localhost:8080/"
        },
        "id": "5I8w1MCSVwhI",
        "outputId": "67add905-201f-44c2-ff20-303fdfaaa7fb"
      },
      "execution_count": 5,
      "outputs": [
        {
          "output_type": "stream",
          "name": "stdout",
          "text": [
            "['R', 'Stata', 'Python', 'C++', 'C#']\n"
          ]
        }
      ]
    },
    {
      "cell_type": "code",
      "source": [
        "#Some of the commonly used libraries used by Data Scientists include:\n",
        "\n",
        "list_libaries = [\"Pandas\", \"Seaborn\", \"Matplotlib\",\"NumPy\"]\n",
        "o_list = sorted(list_libaries)\n",
        "print(list_libaries)"
      ],
      "metadata": {
        "colab": {
          "base_uri": "https://localhost:8080/"
        },
        "id": "aatiOUT_Vtn2",
        "outputId": "1a19859c-9b54-48e8-d782-52af9c8c7063"
      },
      "execution_count": 6,
      "outputs": [
        {
          "output_type": "stream",
          "name": "stdout",
          "text": [
            "['Pandas', 'Seaborn', 'Matplotlib', 'NumPy']\n"
          ]
        }
      ]
    },
    {
      "cell_type": "code",
      "source": [
        "#Data Science Tools\n",
        "\n",
        "import pandas as pd\n",
        "data = [[\"Numpy\"], [\"Pandas\"], [\"Matplotlib\"], [\"Scikit-learn\"]]\n",
        "df = pd.DataFrame(data, columns=[\"Data Science Tools\"])\n",
        "print(df.to_string(index=False))"
      ],
      "metadata": {
        "colab": {
          "base_uri": "https://localhost:8080/"
        },
        "id": "uFc_YaB0XFbh",
        "outputId": "97bf4087-78f6-4638-a356-dac2b5e95627"
      },
      "execution_count": 12,
      "outputs": [
        {
          "output_type": "stream",
          "name": "stdout",
          "text": [
            "Data Science Tools\n",
            "             Numpy\n",
            "            Pandas\n",
            "        Matplotlib\n",
            "      Scikit-learn\n"
          ]
        }
      ]
    },
    {
      "cell_type": "code",
      "source": [
        "#Below are a few examples of evaluating arithmetic expressions in Python.\n",
        "##This a simple arithmetic expression to mutiply then add integers\n",
        "\n",
        "a = 3\n",
        "b = 4\n",
        "c = 5\n",
        " \n",
        "\n",
        "result = (a * b)+c\n",
        "print(result)\n",
        "\n",
        "\n",
        "\n"
      ],
      "metadata": {
        "colab": {
          "base_uri": "https://localhost:8080/"
        },
        "id": "gk5YU5a9YEGl",
        "outputId": "4be156a5-5cd9-44e3-90d4-676647a29ae4"
      },
      "execution_count": 17,
      "outputs": [
        {
          "output_type": "stream",
          "name": "stdout",
          "text": [
            "17\n"
          ]
        }
      ]
    },
    {
      "cell_type": "code",
      "source": [
        "# Minutes to Hours \n",
        "## This will convert 200 minutes to hours by diving by 60.\n",
        "\n",
        "m = 200\n",
        "result_h = m/60\n",
        "print(round(result_h, 2), \"Hours\")"
      ],
      "metadata": {
        "colab": {
          "base_uri": "https://localhost:8080/"
        },
        "id": "y05s32mGZb0r",
        "outputId": "f0d38866-ee3a-4672-9b6b-78e6bdd5d8c7"
      },
      "execution_count": 26,
      "outputs": [
        {
          "output_type": "stream",
          "name": "stdout",
          "text": [
            "3.33 Hours\n"
          ]
        }
      ]
    },
    {
      "cell_type": "markdown",
      "source": [
        "# Author: André Luis Barbosa "
      ],
      "metadata": {
        "id": "b0yfOakiczTl"
      }
    },
    {
      "cell_type": "code",
      "source": [],
      "metadata": {
        "id": "uJbi3JVfarn3"
      },
      "execution_count": 27,
      "outputs": []
    },
    {
      "cell_type": "code",
      "source": [],
      "metadata": {
        "id": "xXnLjToIcxDD"
      },
      "execution_count": null,
      "outputs": []
    }
  ]
}